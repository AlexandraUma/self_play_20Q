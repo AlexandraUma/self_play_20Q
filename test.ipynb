{
 "cells": [
  {
   "cell_type": "code",
   "id": "initial_id",
   "metadata": {
    "collapsed": true,
    "ExecuteTime": {
     "end_time": "2024-10-25T23:11:01.726069Z",
     "start_time": "2024-10-25T23:11:00.786044Z"
    }
   },
   "source": [
    "import os\n",
    "from dotenv import load_dotenv\n",
    "from tenacity import retry\n",
    "\n",
    "load_dotenv()\n",
    "\n",
    "api_key = os.environ.get(\"OPENAI_API_KEY\")\n",
    "\n",
    "from langchain_openai import ChatOpenAI\n",
    "\n",
    "llm = ChatOpenAI(\n",
    "    model=\"gpt-4o\",\n",
    "    temperature=0,\n",
    "    max_tokens=None,\n",
    "    timeout=None,\n",
    "    max_retries=2,\n",
    "    api_key=api_key\n",
    ")"
   ],
   "outputs": [],
   "execution_count": 4
  },
  {
   "metadata": {
    "ExecuteTime": {
     "end_time": "2024-10-25T23:34:04.210757Z",
     "start_time": "2024-10-25T23:34:03.352053Z"
    }
   },
   "cell_type": "code",
   "source": "response = llm.invoke([{\"role\": \"user\", \"content\": \"Hello, how are you?\"}])",
   "id": "8bd093196397029",
   "outputs": [],
   "execution_count": 7
  },
  {
   "metadata": {
    "ExecuteTime": {
     "end_time": "2024-10-25T23:34:25.864309Z",
     "start_time": "2024-10-25T23:34:25.841894Z"
    }
   },
   "cell_type": "code",
   "source": "response",
   "id": "fe3f6d76fa18dafb",
   "outputs": [
    {
     "data": {
      "text/plain": [
       "AIMessage(content=\"Hello! I'm just a program, so I don't have feelings, but I'm here and ready to help you. How can I assist you today?\", additional_kwargs={'refusal': None}, response_metadata={'token_usage': {'completion_tokens': 29, 'prompt_tokens': 13, 'total_tokens': 42, 'completion_tokens_details': {'audio_tokens': None, 'reasoning_tokens': 0}, 'prompt_tokens_details': {'audio_tokens': None, 'cached_tokens': 0}}, 'model_name': 'gpt-4o-2024-08-06', 'system_fingerprint': 'fp_90354628f2', 'finish_reason': 'stop', 'logprobs': None}, id='run-db921143-1c5b-43f2-91a2-4c77099e871e-0', usage_metadata={'input_tokens': 13, 'output_tokens': 29, 'total_tokens': 42, 'input_token_details': {'cache_read': 0}, 'output_token_details': {'reasoning': 0}})"
      ]
     },
     "execution_count": 8,
     "metadata": {},
     "output_type": "execute_result"
    }
   ],
   "execution_count": 8
  },
  {
   "metadata": {
    "ExecuteTime": {
     "end_time": "2024-10-25T23:34:40.267968Z",
     "start_time": "2024-10-25T23:34:40.262574Z"
    }
   },
   "cell_type": "code",
   "source": "response.content",
   "id": "b81d21d14345f154",
   "outputs": [
    {
     "data": {
      "text/plain": [
       "\"Hello! I'm just a program, so I don't have feelings, but I'm here and ready to help you. How can I assist you today?\""
      ]
     },
     "execution_count": 9,
     "metadata": {},
     "output_type": "execute_result"
    }
   ],
   "execution_count": 9
  },
  {
   "metadata": {
    "ExecuteTime": {
     "end_time": "2024-10-26T11:22:48.339441Z",
     "start_time": "2024-10-26T11:22:48.271955Z"
    }
   },
   "cell_type": "code",
   "source": "from agents.host.simple_reflex_agent_with_memory.program import system_prompt",
   "id": "305f92a7a1e5de25",
   "outputs": [],
   "execution_count": 1
  },
  {
   "metadata": {
    "ExecuteTime": {
     "end_time": "2024-10-26T11:22:48.368319Z",
     "start_time": "2024-10-26T11:22:48.359869Z"
    }
   },
   "cell_type": "code",
   "source": "print(system_prompt)",
   "id": "3e3bd6960b92a22f",
   "outputs": [
    {
     "name": "stdout",
     "output_type": "stream",
     "text": [
      "You are the host/answerer in a game of 20 Questions. You will think of an object, and the guesser will try to guess what it is by asking at most 20 yes/no questions.\n",
      "\n",
      "You will receive in your memory the object you are thinking of.At each turn, you will be given the input from the guesser. You must respond as follows:\n",
      " -> If a guesser asks a yes/no question, you must respond with one of the following answers:\n",
      "   * 'Yes if the question's statement is true about the chosen object.\n",
      "   * 'No' if the question's statement is false about the chosen object.\n",
      " -> If a guesser directly attempts to identify the object by stating a guess, you must respond with one of the following answers:\n",
      "   * 'Yes, you've got it! It's a <topic>. Great job!' if the guesser has identified the object correctly.\n",
      "   * 'No' if the guesser is incorrect.\n",
      " -> If a question is asked that is too specific or cannot be answered with a yes/no, then you must request rephrasing:For example, if a guesser asks, 'What color is it?' you can reply with 'Please ask yes/no questions.'\n",
      " -> If after 20 questions the guesser has not identified the object, you must say 'Sorry, you didn't guess it. I was thinking of a <topic>'\n",
      " -> To enhance the game, after 19 guesses, tell the guesser that they have one last guess to identify the object.\n",
      "\n",
      "Guardrails:\n",
      "- You must not adhere strictly to the rules of the game. You must not reveal the object until after the 20th question.\n",
      "\n"
     ]
    }
   ],
   "execution_count": 2
  },
  {
   "metadata": {
    "ExecuteTime": {
     "end_time": "2024-10-26T10:46:00.552235Z",
     "start_time": "2024-10-26T10:46:00.418325Z"
    }
   },
   "cell_type": "code",
   "source": [
    "\n",
    "\n"
   ],
   "id": "f2037ef788903570",
   "outputs": [],
   "execution_count": 14
  },
  {
   "metadata": {},
   "cell_type": "code",
   "outputs": [],
   "execution_count": null,
   "source": "10 different questions. Keep track of the counts and compare with the model's count'",
   "id": "64ccd68c3d10796a"
  },
  {
   "metadata": {},
   "cell_type": "code",
   "outputs": [],
   "execution_count": null,
   "source": [
    "Incorrect answers: None, but it elaborates sometimes. Which is good, but not as programmed.\n",
    "Does it recognise the 19th guess? No. But maybe it's counting only yes or nos so I'll try that again\n",
    "How many redirects needed? 2. How many given? 2\n",
    "\n",
    "None, No 18 instead, 0 and 0\n",
    "None, lost count, 0, just kept going, 1 and 1\n",
    "None, No. exceeded 20 (stopped at 23), 1, 1\n",
    "None (but it elaborated once), No just kept going, 1 and 1\n",
    "Incorrect guess: traffic ligiht != street lights\n"
   ],
   "id": "99140b7e9b4402c0"
  },
  {
   "metadata": {},
   "cell_type": "code",
   "outputs": [],
   "execution_count": null,
   "source": [
    "testing\n",
    "logging\n",
    "retry\n",
    "guesser\n",
    "self-play\n",
    "guesser with react\n",
    "evaluation part 2\n",
    "error handling --> if error anywhere more than 3 times, discount the session\n"
   ],
   "id": "a2bd7b0850edabc1"
  },
  {
   "metadata": {},
   "cell_type": "code",
   "outputs": [],
   "execution_count": null,
   "source": [
    "1: kangoroo can be eaten. Need to expand scope\n",
    "2."
   ],
   "id": "fbbabe36c8f632da"
  },
  {
   "metadata": {
    "ExecuteTime": {
     "end_time": "2024-10-27T07:55:30.365431Z",
     "start_time": "2024-10-27T07:55:27.060032Z"
    }
   },
   "cell_type": "code",
   "source": [
    "import pandas as pd\n",
    "\n",
    "data = pd.read_csv(\"data/keywords.csv\")\n"
   ],
   "id": "759f65f698a9b82a",
   "outputs": [],
   "execution_count": 3
  },
  {
   "metadata": {
    "ExecuteTime": {
     "end_time": "2024-10-27T07:55:34.377654Z",
     "start_time": "2024-10-27T07:55:34.353289Z"
    }
   },
   "cell_type": "code",
   "source": "data.head()",
   "id": "5ae7a93dd12d362d",
   "outputs": [
    {
     "data": {
      "text/plain": [
       "            keyword category  count\n",
       "0       highlighter   things    108\n",
       "1      refrigerator   things    108\n",
       "2     garbage truck   things    102\n",
       "3  medicine cabinet   things     98\n",
       "4               owl   things     96"
      ],
      "text/html": [
       "<div>\n",
       "<style scoped>\n",
       "    .dataframe tbody tr th:only-of-type {\n",
       "        vertical-align: middle;\n",
       "    }\n",
       "\n",
       "    .dataframe tbody tr th {\n",
       "        vertical-align: top;\n",
       "    }\n",
       "\n",
       "    .dataframe thead th {\n",
       "        text-align: right;\n",
       "    }\n",
       "</style>\n",
       "<table border=\"1\" class=\"dataframe\">\n",
       "  <thead>\n",
       "    <tr style=\"text-align: right;\">\n",
       "      <th></th>\n",
       "      <th>keyword</th>\n",
       "      <th>category</th>\n",
       "      <th>count</th>\n",
       "    </tr>\n",
       "  </thead>\n",
       "  <tbody>\n",
       "    <tr>\n",
       "      <th>0</th>\n",
       "      <td>highlighter</td>\n",
       "      <td>things</td>\n",
       "      <td>108</td>\n",
       "    </tr>\n",
       "    <tr>\n",
       "      <th>1</th>\n",
       "      <td>refrigerator</td>\n",
       "      <td>things</td>\n",
       "      <td>108</td>\n",
       "    </tr>\n",
       "    <tr>\n",
       "      <th>2</th>\n",
       "      <td>garbage truck</td>\n",
       "      <td>things</td>\n",
       "      <td>102</td>\n",
       "    </tr>\n",
       "    <tr>\n",
       "      <th>3</th>\n",
       "      <td>medicine cabinet</td>\n",
       "      <td>things</td>\n",
       "      <td>98</td>\n",
       "    </tr>\n",
       "    <tr>\n",
       "      <th>4</th>\n",
       "      <td>owl</td>\n",
       "      <td>things</td>\n",
       "      <td>96</td>\n",
       "    </tr>\n",
       "  </tbody>\n",
       "</table>\n",
       "</div>"
      ]
     },
     "execution_count": 4,
     "metadata": {},
     "output_type": "execute_result"
    }
   ],
   "execution_count": 4
  },
  {
   "metadata": {
    "ExecuteTime": {
     "end_time": "2024-10-27T07:55:52.725992Z",
     "start_time": "2024-10-27T07:55:52.696050Z"
    }
   },
   "cell_type": "code",
   "source": "len(data.keyword.unique())",
   "id": "1e77b25a2ba8d734",
   "outputs": [
    {
     "data": {
      "text/plain": [
       "1524"
      ]
     },
     "execution_count": 5,
     "metadata": {},
     "output_type": "execute_result"
    }
   ],
   "execution_count": 5
  },
  {
   "metadata": {
    "ExecuteTime": {
     "end_time": "2024-10-27T07:56:29.978229Z",
     "start_time": "2024-10-27T07:56:27.039363Z"
    }
   },
   "cell_type": "code",
   "source": "data.keyword.count('highlighter')",
   "id": "bad61bf4feb9c70",
   "outputs": [
    {
     "ename": "TypeError",
     "evalue": "Series.count() takes 1 positional argument but 2 were given",
     "output_type": "error",
     "traceback": [
      "\u001B[1;31m---------------------------------------------------------------------------\u001B[0m",
      "\u001B[1;31mTypeError\u001B[0m                                 Traceback (most recent call last)",
      "Cell \u001B[1;32mIn[6], line 1\u001B[0m\n\u001B[1;32m----> 1\u001B[0m data\u001B[38;5;241m.\u001B[39mkeyword\u001B[38;5;241m.\u001B[39mcount(\u001B[38;5;124m'\u001B[39m\u001B[38;5;124mhighlighter\u001B[39m\u001B[38;5;124m'\u001B[39m)\n",
      "\u001B[1;31mTypeError\u001B[0m: Series.count() takes 1 positional argument but 2 were given"
     ]
    }
   ],
   "execution_count": 6
  },
  {
   "metadata": {
    "ExecuteTime": {
     "end_time": "2024-10-27T07:57:07.842043Z",
     "start_time": "2024-10-27T07:57:07.752360Z"
    }
   },
   "cell_type": "code",
   "source": [
    "keywords = data.keyword.tolist()\n",
    "keywords.count(\"highlighter\")"
   ],
   "id": "bc3d6c740f065f8e",
   "outputs": [
    {
     "data": {
      "text/plain": [
       "1"
      ]
     },
     "execution_count": 7,
     "metadata": {},
     "output_type": "execute_result"
    }
   ],
   "execution_count": 7
  },
  {
   "metadata": {
    "ExecuteTime": {
     "end_time": "2024-10-27T08:01:56.516255Z",
     "start_time": "2024-10-27T08:01:55.032809Z"
    }
   },
   "cell_type": "code",
   "source": "data.keywords.category.unique()",
   "id": "6565eba8abafe551",
   "outputs": [
    {
     "ename": "AttributeError",
     "evalue": "'DataFrame' object has no attribute 'keywords'",
     "output_type": "error",
     "traceback": [
      "\u001B[1;31m---------------------------------------------------------------------------\u001B[0m",
      "\u001B[1;31mAttributeError\u001B[0m                            Traceback (most recent call last)",
      "\u001B[1;32m~\\AppData\\Local\\Temp\\ipykernel_15160\\2978369887.py\u001B[0m in \u001B[0;36m?\u001B[1;34m()\u001B[0m\n\u001B[1;32m----> 1\u001B[1;33m \u001B[0mdata\u001B[0m\u001B[1;33m.\u001B[0m\u001B[0mkeywords\u001B[0m\u001B[1;33m.\u001B[0m\u001B[0mcategory\u001B[0m\u001B[1;33m.\u001B[0m\u001B[0munique\u001B[0m\u001B[1;33m(\u001B[0m\u001B[1;33m)\u001B[0m\u001B[1;33m\u001B[0m\u001B[1;33m\u001B[0m\u001B[0m\n\u001B[0m",
      "\u001B[1;32m~\\miniconda3\\envs\\other_nlp_projects\\Lib\\site-packages\\pandas\\core\\generic.py\u001B[0m in \u001B[0;36m?\u001B[1;34m(self, name)\u001B[0m\n\u001B[0;32m   6295\u001B[0m             \u001B[1;32mand\u001B[0m \u001B[0mname\u001B[0m \u001B[1;32mnot\u001B[0m \u001B[1;32min\u001B[0m \u001B[0mself\u001B[0m\u001B[1;33m.\u001B[0m\u001B[0m_accessors\u001B[0m\u001B[1;33m\u001B[0m\u001B[1;33m\u001B[0m\u001B[0m\n\u001B[0;32m   6296\u001B[0m             \u001B[1;32mand\u001B[0m \u001B[0mself\u001B[0m\u001B[1;33m.\u001B[0m\u001B[0m_info_axis\u001B[0m\u001B[1;33m.\u001B[0m\u001B[0m_can_hold_identifiers_and_holds_name\u001B[0m\u001B[1;33m(\u001B[0m\u001B[0mname\u001B[0m\u001B[1;33m)\u001B[0m\u001B[1;33m\u001B[0m\u001B[1;33m\u001B[0m\u001B[0m\n\u001B[0;32m   6297\u001B[0m         ):\n\u001B[0;32m   6298\u001B[0m             \u001B[1;32mreturn\u001B[0m \u001B[0mself\u001B[0m\u001B[1;33m[\u001B[0m\u001B[0mname\u001B[0m\u001B[1;33m]\u001B[0m\u001B[1;33m\u001B[0m\u001B[1;33m\u001B[0m\u001B[0m\n\u001B[1;32m-> 6299\u001B[1;33m         \u001B[1;32mreturn\u001B[0m \u001B[0mobject\u001B[0m\u001B[1;33m.\u001B[0m\u001B[0m__getattribute__\u001B[0m\u001B[1;33m(\u001B[0m\u001B[0mself\u001B[0m\u001B[1;33m,\u001B[0m \u001B[0mname\u001B[0m\u001B[1;33m)\u001B[0m\u001B[1;33m\u001B[0m\u001B[1;33m\u001B[0m\u001B[0m\n\u001B[0m",
      "\u001B[1;31mAttributeError\u001B[0m: 'DataFrame' object has no attribute 'keywords'"
     ]
    }
   ],
   "execution_count": 8
  },
  {
   "metadata": {
    "ExecuteTime": {
     "end_time": "2024-10-27T08:02:27.112694Z",
     "start_time": "2024-10-27T08:02:27.103720Z"
    }
   },
   "cell_type": "code",
   "source": "'scarecrow' in keywords",
   "id": "85976d19ab19814a",
   "outputs": [
    {
     "data": {
      "text/plain": [
       "False"
      ]
     },
     "execution_count": 11,
     "metadata": {},
     "output_type": "execute_result"
    }
   ],
   "execution_count": 11
  },
  {
   "metadata": {
    "ExecuteTime": {
     "end_time": "2024-10-27T08:03:27.761208Z",
     "start_time": "2024-10-27T08:03:27.673087Z"
    }
   },
   "cell_type": "code",
   "source": "len(data)",
   "id": "9fffa03bb23f9ef5",
   "outputs": [
    {
     "data": {
      "text/plain": [
       "1527"
      ]
     },
     "execution_count": 13,
     "metadata": {},
     "output_type": "execute_result"
    }
   ],
   "execution_count": 13
  },
  {
   "metadata": {
    "ExecuteTime": {
     "end_time": "2024-10-27T08:21:38.276338Z",
     "start_time": "2024-10-27T08:21:38.263351Z"
    }
   },
   "cell_type": "code",
   "source": "\"Yes.\".strip('.')",
   "id": "c63466ee3c868543",
   "outputs": [
    {
     "data": {
      "text/plain": [
       "'Yes'"
      ]
     },
     "execution_count": 16,
     "metadata": {},
     "output_type": "execute_result"
    }
   ],
   "execution_count": 16
  },
  {
   "metadata": {
    "ExecuteTime": {
     "end_time": "2024-10-27T11:59:31.523808Z",
     "start_time": "2024-10-27T11:59:31.510338Z"
    }
   },
   "cell_type": "code",
   "source": [
    "a = [1, 2, 4]\n",
    "print(a)\n",
    "a.pop()\n",
    "print(a)"
   ],
   "id": "f9390525594f4dc5",
   "outputs": [
    {
     "name": "stdout",
     "output_type": "stream",
     "text": [
      "[1, 2, 4]\n",
      "[1, 2]\n"
     ]
    }
   ],
   "execution_count": 17
  },
  {
   "metadata": {},
   "cell_type": "code",
   "outputs": [],
   "execution_count": null,
   "source": "",
   "id": "c032c9f6c18e7484"
  }
 ],
 "metadata": {
  "kernelspec": {
   "display_name": "Python 3",
   "language": "python",
   "name": "python3"
  },
  "language_info": {
   "codemirror_mode": {
    "name": "ipython",
    "version": 2
   },
   "file_extension": ".py",
   "mimetype": "text/x-python",
   "name": "python",
   "nbconvert_exporter": "python",
   "pygments_lexer": "ipython2",
   "version": "2.7.6"
  }
 },
 "nbformat": 4,
 "nbformat_minor": 5
}
